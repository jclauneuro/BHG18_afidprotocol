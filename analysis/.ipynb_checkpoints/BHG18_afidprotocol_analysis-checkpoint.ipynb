{
 "cells": [
  {
   "cell_type": "markdown",
   "metadata": {},
   "source": [
    "# AFID protocol analysis\n",
    "\n",
    "An interactive notebook for processing the results from the tutorial."
   ]
  },
  {
   "cell_type": "code",
   "execution_count": 1,
   "metadata": {},
   "outputs": [],
   "source": [
    "# initialize libraries\n",
    "library(plyr)\n",
    "library(digest)\n",
    "library(reshape2)"
   ]
  },
  {
   "cell_type": "code",
   "execution_count": 2,
   "metadata": {},
   "outputs": [],
   "source": [
    "# initialize paths and variables\n",
    "setwd('~/GitHub/BHG18_afidprotocol//input/input_fid')\n",
    "\n",
    "df_raters <- data.frame(fid=integer(),X=double(),Y=double(),Z=double(),rater=factor(),\n",
    "                        template=factor(),mri_type=factor(),session=integer(),date=integer(),\n",
    "                        name=character(),description=character(),stringsAsFactors = FALSE)\n",
    "\n",
    "csv_files <- list.files(\".\", \"*.fcsv\")\n",
    "\n",
    "for (i in 1:length(csv_files)) {\n",
    "  curr_split <- unlist(strsplit(csv_files[i],\"_\"))\n",
    "  if (length(curr_split)>1) { # extract name and session data\n",
    "    rater_template <- curr_split[1]\n",
    "    rater_mri_type <- curr_split[2]\n",
    "    rater_name <- curr_split[3]\n",
    "    rater_session <- as.numeric(curr_split[4])\n",
    "    rater_date <- as.numeric(unlist(strsplit(curr_split[5],\"[.]\"))[1])\n",
    "  }\n",
    "\n",
    "  curr_rater <- read.table(csv_files[i], header=FALSE, sep=\",\")\n",
    "  df_rater <- data.frame(fid = 1:length(curr_rater$V1))\n",
    "\n",
    "  df_rater <- cbind(df_rater,X=curr_rater[2],Y=curr_rater[3],Z=curr_rater[4],rater=rater_name,\n",
    "                    template=rater_template,mri_type=rater_mri_type,\n",
    "                    session=rater_session,date=rater_date,name=curr_rater[12],\n",
    "                    description=curr_rater[13])\n",
    "  \n",
    "  df_rater <- rename(df_rater, c(\"V2\"=\"X\",\"V3\"=\"Y\",\"V4\"=\"Z\",\"V12\"=\"name\",\"V13\"=\"description\"))\n",
    "  df_raters <- rbind(df_raters,df_rater)\n",
    "}\n",
    "\n",
    "# Remapping levels to integers\n",
    "levels(df_raters$rater) <- 1:length(levels(df_raters$rater))"
   ]
  },
  {
   "cell_type": "code",
   "execution_count": 14,
   "metadata": {},
   "outputs": [],
   "source": [
    "# load in the gold-standard study mean\n",
    "\n",
    "# create study specific mean\n",
    "#ddply(df_raters, \"fid\", summarize, X=mean(X), Y=mean(Y), Z=mean(Z) ) # study mean\n",
    "\n",
    "#### Gold-standard study MEAN ########################################################################\n",
    "setwd('~/GitHub/BHG18_afidprotocol/input/input_mean/')\n",
    "UHF_gold <- read.table('UHF_MEAN_no_outliers.fcsv', header=FALSE, sep=\",\")\n",
    "df_gold <- data.frame(fid = 1:length(curr_rater$V1))\n",
    "df_gold <- cbind(df_gold,X=UHF_gold[2],Y=UHF_gold[3],Z=UHF_gold[4],rater='GOLD',\n",
    "                  template=rater_template,mri_type=rater_mri_type,\n",
    "                  session=rater_session,date=rater_date,name=UHF_gold[12],\n",
    "                  description=UHF_gold[13])\n",
    "df_gold <- rename(df_gold, c(\"V2\"=\"X\",\"V3\"=\"Y\",\"V4\"=\"Z\",\"V12\"=\"name\",\"V13\"=\"description\"))\n",
    "\n",
    "#### Recalculate rater errors ########################################################################\n",
    "\n",
    "df_raters$xdist <- NA\n",
    "df_raters$ydist <- NA\n",
    "df_raters$zdist <- NA\n",
    "\n",
    "df_raters$rater_error <- NA\n",
    "df_raters$outlier <- NA\n",
    "\n",
    "# TODO: refactor into distance function\n",
    "for (i in 1:dim(df_raters)[1]) {\n",
    "        curr_rater <- df_raters[i,]\n",
    "        mean_raters <- df_gold[curr_rater$fid,]\n",
    "\n",
    "        xdist <- curr_rater$X - mean_raters$X\n",
    "        ydist <- curr_rater$Y - mean_raters$Y\n",
    "        zdist <- curr_rater$Z - mean_raters$Z\n",
    "        \n",
    "        rater_error <- sqrt( (curr_rater$X - mean_raters$X)^2 + (curr_rater$Y - mean_raters$Y)^2 + (curr_rater$Z - mean_raters$Z)^2 )\n",
    "        \n",
    "        df_raters[i,]$xdist <- xdist\n",
    "        df_raters[i,]$ydist <- ydist\n",
    "        df_raters[i,]$zdist <- zdist\n",
    "        \n",
    "        rater_error <- sqrt( (curr_rater$X - mean_raters$X)^2 + (curr_rater$Y - mean_raters$Y)^2 + (curr_rater$Z - mean_raters$Z)^2 )\n",
    "        df_raters[i,]$rater_error <- rater_error\n",
    "        df_raters[i,]$outlier <- (rater_error > 10) # focus on true outliers (1cm+) first (TODO: optimize threshold later)\n",
    "}"
   ]
  },
  {
   "cell_type": "markdown",
   "metadata": {},
   "source": [
    "## Summary Statistics\n",
    "\n",
    "Summarizing overall mean AFLE from the tutorial and individual rater results."
   ]
  },
  {
   "cell_type": "code",
   "execution_count": 15,
   "metadata": {},
   "outputs": [
    {
     "data": {
      "text/html": [
       "'Overall mean rater error (AFLE): 1.62 +/- 2.40 mm'"
      ],
      "text/latex": [
       "'Overall mean rater error (AFLE): 1.62 +/- 2.40 mm'"
      ],
      "text/markdown": [
       "'Overall mean rater error (AFLE): 1.62 +/- 2.40 mm'"
      ],
      "text/plain": [
       "[1] \"Overall mean rater error (AFLE): 1.62 +/- 2.40 mm\""
      ]
     },
     "metadata": {},
     "output_type": "display_data"
    },
    {
     "data": {
      "text/html": [
       "'The top rater was Rater 3!'"
      ],
      "text/latex": [
       "'The top rater was Rater 3!'"
      ],
      "text/markdown": [
       "'The top rater was Rater 3!'"
      ],
      "text/plain": [
       "[1] \"The top rater was Rater 3!\""
      ]
     },
     "metadata": {},
     "output_type": "display_data"
    },
    {
     "data": {
      "text/html": [
       "<table>\n",
       "<thead><tr><th scope=col>rater</th><th scope=col>mean</th><th scope=col>sd</th></tr></thead>\n",
       "<tbody>\n",
       "\t<tr><td>1        </td><td>2.655555 </td><td>4.0570655</td></tr>\n",
       "\t<tr><td>2        </td><td>1.465626 </td><td>2.0840100</td></tr>\n",
       "\t<tr><td>3        </td><td>1.102250 </td><td>0.6947745</td></tr>\n",
       "\t<tr><td>4        </td><td>1.263015 </td><td>1.6454577</td></tr>\n",
       "\t<tr><td>5        </td><td>1.187308 </td><td>0.6604209</td></tr>\n",
       "\t<tr><td>6        </td><td>1.409958 </td><td>1.6511633</td></tr>\n",
       "\t<tr><td>7        </td><td>1.146385 </td><td>1.5384989</td></tr>\n",
       "\t<tr><td>8        </td><td>3.353794 </td><td>4.7147488</td></tr>\n",
       "\t<tr><td>9        </td><td>1.156302 </td><td>0.7935470</td></tr>\n",
       "\t<tr><td>10       </td><td>1.276090 </td><td>2.1096329</td></tr>\n",
       "\t<tr><td>11       </td><td>1.850331 </td><td>1.7452688</td></tr>\n",
       "</tbody>\n",
       "</table>\n"
      ],
      "text/latex": [
       "\\begin{tabular}{r|lll}\n",
       " rater & mean & sd\\\\\n",
       "\\hline\n",
       "\t 1         & 2.655555  & 4.0570655\\\\\n",
       "\t 2         & 1.465626  & 2.0840100\\\\\n",
       "\t 3         & 1.102250  & 0.6947745\\\\\n",
       "\t 4         & 1.263015  & 1.6454577\\\\\n",
       "\t 5         & 1.187308  & 0.6604209\\\\\n",
       "\t 6         & 1.409958  & 1.6511633\\\\\n",
       "\t 7         & 1.146385  & 1.5384989\\\\\n",
       "\t 8         & 3.353794  & 4.7147488\\\\\n",
       "\t 9         & 1.156302  & 0.7935470\\\\\n",
       "\t 10        & 1.276090  & 2.1096329\\\\\n",
       "\t 11        & 1.850331  & 1.7452688\\\\\n",
       "\\end{tabular}\n"
      ],
      "text/markdown": [
       "\n",
       "rater | mean | sd | \n",
       "|---|---|---|---|---|---|---|---|---|---|---|\n",
       "| 1         | 2.655555  | 4.0570655 | \n",
       "| 2         | 1.465626  | 2.0840100 | \n",
       "| 3         | 1.102250  | 0.6947745 | \n",
       "| 4         | 1.263015  | 1.6454577 | \n",
       "| 5         | 1.187308  | 0.6604209 | \n",
       "| 6         | 1.409958  | 1.6511633 | \n",
       "| 7         | 1.146385  | 1.5384989 | \n",
       "| 8         | 3.353794  | 4.7147488 | \n",
       "| 9         | 1.156302  | 0.7935470 | \n",
       "| 10        | 1.276090  | 2.1096329 | \n",
       "| 11        | 1.850331  | 1.7452688 | \n",
       "\n",
       "\n"
      ],
      "text/plain": [
       "   rater mean     sd       \n",
       "1  1     2.655555 4.0570655\n",
       "2  2     1.465626 2.0840100\n",
       "3  3     1.102250 0.6947745\n",
       "4  4     1.263015 1.6454577\n",
       "5  5     1.187308 0.6604209\n",
       "6  6     1.409958 1.6511633\n",
       "7  7     1.146385 1.5384989\n",
       "8  8     3.353794 4.7147488\n",
       "9  9     1.156302 0.7935470\n",
       "10 10    1.276090 2.1096329\n",
       "11 11    1.850331 1.7452688"
      ]
     },
     "metadata": {},
     "output_type": "display_data"
    }
   ],
   "source": [
    "# summary statistics\n",
    "sprintf(\"Overall mean rater error (AFLE): %.2f +/- %.2f mm\", mean(df_raters$rater_error), sd(df_raters$rater_error))\n",
    "df_rater_summary <- ddply(df_raters, \"rater\", summarize, mean=mean(rater_error), sd=sd(rater_error))\n",
    "sprintf(\"The top rater was Rater %d!\", which.min(df_rater_summary$mean))\n",
    "df_rater_summary"
   ]
  },
  {
   "cell_type": "markdown",
   "metadata": {},
   "source": [
    "### Summary across the different AFID points"
   ]
  },
  {
   "cell_type": "code",
   "execution_count": 22,
   "metadata": {},
   "outputs": [
    {
     "data": {
      "text/html": [
       "<table>\n",
       "<thead><tr><th scope=col>fid</th><th scope=col>mean</th><th scope=col>sd</th><th scope=col>description</th></tr></thead>\n",
       "<tbody>\n",
       "\t<tr><td> 1                            </td><td>0.3877299                     </td><td>0.1755934                     </td><td>AC                            </td></tr>\n",
       "\t<tr><td> 2                            </td><td>0.5119801                     </td><td>0.1948584                     </td><td>PC                            </td></tr>\n",
       "\t<tr><td> 3                            </td><td>1.1772151                     </td><td>0.3643899                     </td><td>infracollicular sulcus        </td></tr>\n",
       "\t<tr><td> 4                            </td><td>0.8934505                     </td><td>0.4448808                     </td><td>PMJ                           </td></tr>\n",
       "\t<tr><td> 5                            </td><td>1.1816383                     </td><td>0.5767583                     </td><td>superior interpeduncular fossa</td></tr>\n",
       "\t<tr><td> 6                            </td><td>0.5061952                     </td><td>0.2232138                     </td><td>R superior LMS                </td></tr>\n",
       "\t<tr><td> 7                            </td><td>0.9006822                     </td><td>0.3415488                     </td><td>L superior LMS                </td></tr>\n",
       "\t<tr><td> 8                            </td><td>1.2580568                     </td><td>0.7162415                     </td><td>R inferior LMS                </td></tr>\n",
       "\t<tr><td> 9                            </td><td>1.4334641                     </td><td>0.6892487                     </td><td>L inferior LMS                </td></tr>\n",
       "\t<tr><td>10                            </td><td>1.0098439                     </td><td>0.3826892                     </td><td>culmen                        </td></tr>\n",
       "\t<tr><td>11                            </td><td>0.7089635                     </td><td>0.3158328                     </td><td>intermammillary sulcus        </td></tr>\n",
       "\t<tr><td>12                            </td><td>0.6386573                     </td><td>0.6602796                     </td><td>R MB                          </td></tr>\n",
       "\t<tr><td>13                            </td><td>0.4962354                     </td><td>0.4112820                     </td><td>L MB                          </td></tr>\n",
       "\t<tr><td>14                            </td><td>0.5480346                     </td><td>0.2194948                     </td><td>pineal gland                  </td></tr>\n",
       "\t<tr><td>15                            </td><td>1.0335115                     </td><td>0.9178977                     </td><td>R LV at AC                    </td></tr>\n",
       "\t<tr><td>16                            </td><td>1.0931902                     </td><td>0.7213402                     </td><td>L LV at AC                    </td></tr>\n",
       "\t<tr><td>17                            </td><td>2.4046666                     </td><td>2.4176381                     </td><td>R LV at PC                    </td></tr>\n",
       "\t<tr><td>18                            </td><td>2.0361388                     </td><td>2.4190846                     </td><td>L LV at PC                    </td></tr>\n",
       "\t<tr><td>19                            </td><td>1.1457829                     </td><td>0.4397523                     </td><td>genu of CC                    </td></tr>\n",
       "\t<tr><td>20                            </td><td>0.8263083                     </td><td>0.4938572                     </td><td>splenium of CC                </td></tr>\n",
       "\t<tr><td>21                            </td><td>5.1662122                     </td><td>3.3559828                     </td><td>R AL temporal horn            </td></tr>\n",
       "\t<tr><td>22                            </td><td>5.2013811                     </td><td>3.0969752                     </td><td>L AL temporal horn            </td></tr>\n",
       "\t<tr><td>23                            </td><td>2.2712969                     </td><td>5.1648296                     </td><td>R superior AM temporal horn   </td></tr>\n",
       "\t<tr><td>24                            </td><td>2.2528494                     </td><td>4.7644332                     </td><td>L superior AM temporal horn   </td></tr>\n",
       "\t<tr><td>25                            </td><td>1.5126100                     </td><td>1.1634408                     </td><td>R inferior AM temporal horn   </td></tr>\n",
       "\t<tr><td>26                            </td><td>1.8693091                     </td><td>1.1153501                     </td><td>L inferior AM temporal horn   </td></tr>\n",
       "\t<tr><td>27                            </td><td>1.7199659                     </td><td>1.5834993                     </td><td>R indusium griseum origin     </td></tr>\n",
       "\t<tr><td>28                            </td><td>1.9852892                     </td><td>1.7602448                     </td><td>L indusium griseum origin     </td></tr>\n",
       "\t<tr><td>29                            </td><td>1.7517448                     </td><td>0.4751310                     </td><td>R ventral occipital horn      </td></tr>\n",
       "\t<tr><td>30                            </td><td>1.5495441                     </td><td>0.9416749                     </td><td>L ventral occipital horn      </td></tr>\n",
       "\t<tr><td>31                            </td><td>3.3866084                     </td><td>5.4207316                     </td><td>R olfactory sulcal fundus     </td></tr>\n",
       "\t<tr><td>32                            </td><td>3.1170478                     </td><td>5.3677646                     </td><td>L olfactory sulcal fundus     </td></tr>\n",
       "</tbody>\n",
       "</table>\n"
      ],
      "text/latex": [
       "\\begin{tabular}{r|llll}\n",
       " fid & mean & sd & description\\\\\n",
       "\\hline\n",
       "\t  1                             & 0.3877299                      & 0.1755934                      & AC                            \\\\\n",
       "\t  2                             & 0.5119801                      & 0.1948584                      & PC                            \\\\\n",
       "\t  3                             & 1.1772151                      & 0.3643899                      & infracollicular sulcus        \\\\\n",
       "\t  4                             & 0.8934505                      & 0.4448808                      & PMJ                           \\\\\n",
       "\t  5                             & 1.1816383                      & 0.5767583                      & superior interpeduncular fossa\\\\\n",
       "\t  6                             & 0.5061952                      & 0.2232138                      & R superior LMS                \\\\\n",
       "\t  7                             & 0.9006822                      & 0.3415488                      & L superior LMS                \\\\\n",
       "\t  8                             & 1.2580568                      & 0.7162415                      & R inferior LMS                \\\\\n",
       "\t  9                             & 1.4334641                      & 0.6892487                      & L inferior LMS                \\\\\n",
       "\t 10                             & 1.0098439                      & 0.3826892                      & culmen                        \\\\\n",
       "\t 11                             & 0.7089635                      & 0.3158328                      & intermammillary sulcus        \\\\\n",
       "\t 12                             & 0.6386573                      & 0.6602796                      & R MB                          \\\\\n",
       "\t 13                             & 0.4962354                      & 0.4112820                      & L MB                          \\\\\n",
       "\t 14                             & 0.5480346                      & 0.2194948                      & pineal gland                  \\\\\n",
       "\t 15                             & 1.0335115                      & 0.9178977                      & R LV at AC                    \\\\\n",
       "\t 16                             & 1.0931902                      & 0.7213402                      & L LV at AC                    \\\\\n",
       "\t 17                             & 2.4046666                      & 2.4176381                      & R LV at PC                    \\\\\n",
       "\t 18                             & 2.0361388                      & 2.4190846                      & L LV at PC                    \\\\\n",
       "\t 19                             & 1.1457829                      & 0.4397523                      & genu of CC                    \\\\\n",
       "\t 20                             & 0.8263083                      & 0.4938572                      & splenium of CC                \\\\\n",
       "\t 21                             & 5.1662122                      & 3.3559828                      & R AL temporal horn            \\\\\n",
       "\t 22                             & 5.2013811                      & 3.0969752                      & L AL temporal horn            \\\\\n",
       "\t 23                             & 2.2712969                      & 5.1648296                      & R superior AM temporal horn   \\\\\n",
       "\t 24                             & 2.2528494                      & 4.7644332                      & L superior AM temporal horn   \\\\\n",
       "\t 25                             & 1.5126100                      & 1.1634408                      & R inferior AM temporal horn   \\\\\n",
       "\t 26                             & 1.8693091                      & 1.1153501                      & L inferior AM temporal horn   \\\\\n",
       "\t 27                             & 1.7199659                      & 1.5834993                      & R indusium griseum origin     \\\\\n",
       "\t 28                             & 1.9852892                      & 1.7602448                      & L indusium griseum origin     \\\\\n",
       "\t 29                             & 1.7517448                      & 0.4751310                      & R ventral occipital horn      \\\\\n",
       "\t 30                             & 1.5495441                      & 0.9416749                      & L ventral occipital horn      \\\\\n",
       "\t 31                             & 3.3866084                      & 5.4207316                      & R olfactory sulcal fundus     \\\\\n",
       "\t 32                             & 3.1170478                      & 5.3677646                      & L olfactory sulcal fundus     \\\\\n",
       "\\end{tabular}\n"
      ],
      "text/markdown": [
       "\n",
       "fid | mean | sd | description | \n",
       "|---|---|---|---|---|---|---|---|---|---|---|---|---|---|---|---|---|---|---|---|---|---|---|---|---|---|---|---|---|---|---|---|\n",
       "|  1                             | 0.3877299                      | 0.1755934                      | AC                             | \n",
       "|  2                             | 0.5119801                      | 0.1948584                      | PC                             | \n",
       "|  3                             | 1.1772151                      | 0.3643899                      | infracollicular sulcus         | \n",
       "|  4                             | 0.8934505                      | 0.4448808                      | PMJ                            | \n",
       "|  5                             | 1.1816383                      | 0.5767583                      | superior interpeduncular fossa | \n",
       "|  6                             | 0.5061952                      | 0.2232138                      | R superior LMS                 | \n",
       "|  7                             | 0.9006822                      | 0.3415488                      | L superior LMS                 | \n",
       "|  8                             | 1.2580568                      | 0.7162415                      | R inferior LMS                 | \n",
       "|  9                             | 1.4334641                      | 0.6892487                      | L inferior LMS                 | \n",
       "| 10                             | 1.0098439                      | 0.3826892                      | culmen                         | \n",
       "| 11                             | 0.7089635                      | 0.3158328                      | intermammillary sulcus         | \n",
       "| 12                             | 0.6386573                      | 0.6602796                      | R MB                           | \n",
       "| 13                             | 0.4962354                      | 0.4112820                      | L MB                           | \n",
       "| 14                             | 0.5480346                      | 0.2194948                      | pineal gland                   | \n",
       "| 15                             | 1.0335115                      | 0.9178977                      | R LV at AC                     | \n",
       "| 16                             | 1.0931902                      | 0.7213402                      | L LV at AC                     | \n",
       "| 17                             | 2.4046666                      | 2.4176381                      | R LV at PC                     | \n",
       "| 18                             | 2.0361388                      | 2.4190846                      | L LV at PC                     | \n",
       "| 19                             | 1.1457829                      | 0.4397523                      | genu of CC                     | \n",
       "| 20                             | 0.8263083                      | 0.4938572                      | splenium of CC                 | \n",
       "| 21                             | 5.1662122                      | 3.3559828                      | R AL temporal horn             | \n",
       "| 22                             | 5.2013811                      | 3.0969752                      | L AL temporal horn             | \n",
       "| 23                             | 2.2712969                      | 5.1648296                      | R superior AM temporal horn    | \n",
       "| 24                             | 2.2528494                      | 4.7644332                      | L superior AM temporal horn    | \n",
       "| 25                             | 1.5126100                      | 1.1634408                      | R inferior AM temporal horn    | \n",
       "| 26                             | 1.8693091                      | 1.1153501                      | L inferior AM temporal horn    | \n",
       "| 27                             | 1.7199659                      | 1.5834993                      | R indusium griseum origin      | \n",
       "| 28                             | 1.9852892                      | 1.7602448                      | L indusium griseum origin      | \n",
       "| 29                             | 1.7517448                      | 0.4751310                      | R ventral occipital horn       | \n",
       "| 30                             | 1.5495441                      | 0.9416749                      | L ventral occipital horn       | \n",
       "| 31                             | 3.3866084                      | 5.4207316                      | R olfactory sulcal fundus      | \n",
       "| 32                             | 3.1170478                      | 5.3677646                      | L olfactory sulcal fundus      | \n",
       "\n",
       "\n"
      ],
      "text/plain": [
       "   fid mean      sd        description                   \n",
       "1   1  0.3877299 0.1755934 AC                            \n",
       "2   2  0.5119801 0.1948584 PC                            \n",
       "3   3  1.1772151 0.3643899 infracollicular sulcus        \n",
       "4   4  0.8934505 0.4448808 PMJ                           \n",
       "5   5  1.1816383 0.5767583 superior interpeduncular fossa\n",
       "6   6  0.5061952 0.2232138 R superior LMS                \n",
       "7   7  0.9006822 0.3415488 L superior LMS                \n",
       "8   8  1.2580568 0.7162415 R inferior LMS                \n",
       "9   9  1.4334641 0.6892487 L inferior LMS                \n",
       "10 10  1.0098439 0.3826892 culmen                        \n",
       "11 11  0.7089635 0.3158328 intermammillary sulcus        \n",
       "12 12  0.6386573 0.6602796 R MB                          \n",
       "13 13  0.4962354 0.4112820 L MB                          \n",
       "14 14  0.5480346 0.2194948 pineal gland                  \n",
       "15 15  1.0335115 0.9178977 R LV at AC                    \n",
       "16 16  1.0931902 0.7213402 L LV at AC                    \n",
       "17 17  2.4046666 2.4176381 R LV at PC                    \n",
       "18 18  2.0361388 2.4190846 L LV at PC                    \n",
       "19 19  1.1457829 0.4397523 genu of CC                    \n",
       "20 20  0.8263083 0.4938572 splenium of CC                \n",
       "21 21  5.1662122 3.3559828 R AL temporal horn            \n",
       "22 22  5.2013811 3.0969752 L AL temporal horn            \n",
       "23 23  2.2712969 5.1648296 R superior AM temporal horn   \n",
       "24 24  2.2528494 4.7644332 L superior AM temporal horn   \n",
       "25 25  1.5126100 1.1634408 R inferior AM temporal horn   \n",
       "26 26  1.8693091 1.1153501 L inferior AM temporal horn   \n",
       "27 27  1.7199659 1.5834993 R indusium griseum origin     \n",
       "28 28  1.9852892 1.7602448 L indusium griseum origin     \n",
       "29 29  1.7517448 0.4751310 R ventral occipital horn      \n",
       "30 30  1.5495441 0.9416749 L ventral occipital horn      \n",
       "31 31  3.3866084 5.4207316 R olfactory sulcal fundus     \n",
       "32 32  3.1170478 5.3677646 L olfactory sulcal fundus     "
      ]
     },
     "metadata": {},
     "output_type": "display_data"
    }
   ],
   "source": [
    "cbind( ddply(df_raters, .(fid), summarize, mean=mean(rater_error), sd=sd(rater_error)), description = df_gold$description)"
   ]
  },
  {
   "cell_type": "markdown",
   "metadata": {},
   "source": [
    "## Individual Rater Performance\n",
    "\n",
    "Summarizing results for an individual rater."
   ]
  },
  {
   "cell_type": "code",
   "execution_count": 6,
   "metadata": {},
   "outputs": [
    {
     "data": {
      "text/html": [
       "'Overall mean rater error (AFLE): 1.10 +/- 0.69 mm'"
      ],
      "text/latex": [
       "'Overall mean rater error (AFLE): 1.10 +/- 0.69 mm'"
      ],
      "text/markdown": [
       "'Overall mean rater error (AFLE): 1.10 +/- 0.69 mm'"
      ],
      "text/plain": [
       "[1] \"Overall mean rater error (AFLE): 1.10 +/- 0.69 mm\""
      ]
     },
     "metadata": {},
     "output_type": "display_data"
    },
    {
     "data": {
      "text/html": [
       "<table>\n",
       "<thead><tr><th></th><th scope=col>fid</th><th scope=col>name</th><th scope=col>description</th><th scope=col>rater_error</th><th scope=col>outlier</th></tr></thead>\n",
       "<tbody>\n",
       "\t<tr><th scope=row>65</th><td> 1                            </td><td>AC                            </td><td>AC                            </td><td>0.1355433                     </td><td>FALSE                         </td></tr>\n",
       "\t<tr><th scope=row>66</th><td> 2                            </td><td>PC                            </td><td>PC                            </td><td>0.6884137                     </td><td>FALSE                         </td></tr>\n",
       "\t<tr><th scope=row>67</th><td> 3                            </td><td>3                             </td><td>infracollicular sulcus        </td><td>1.5301650                     </td><td>FALSE                         </td></tr>\n",
       "\t<tr><th scope=row>68</th><td> 4                            </td><td>4                             </td><td>PMJ                           </td><td>0.6658026                     </td><td>FALSE                         </td></tr>\n",
       "\t<tr><th scope=row>69</th><td> 5                            </td><td>5                             </td><td>superior interpeduncular fossa</td><td>1.3824154                     </td><td>FALSE                         </td></tr>\n",
       "\t<tr><th scope=row>70</th><td> 6                            </td><td>6                             </td><td>R superior LMS                </td><td>0.8329295                     </td><td>FALSE                         </td></tr>\n",
       "\t<tr><th scope=row>71</th><td> 7                            </td><td>7                             </td><td>L superior LMS                </td><td>1.2218516                     </td><td>FALSE                         </td></tr>\n",
       "\t<tr><th scope=row>72</th><td> 8                            </td><td>8                             </td><td>R inferior LMS                </td><td>0.3445809                     </td><td>FALSE                         </td></tr>\n",
       "\t<tr><th scope=row>73</th><td> 9                            </td><td>9                             </td><td>L inferior LMS                </td><td>0.7483035                     </td><td>FALSE                         </td></tr>\n",
       "\t<tr><th scope=row>74</th><td>10                            </td><td>10                            </td><td>culmen                        </td><td>0.6659211                     </td><td>FALSE                         </td></tr>\n",
       "\t<tr><th scope=row>75</th><td>11                            </td><td>11                            </td><td>intermammillary sulcus        </td><td>0.2991135                     </td><td>FALSE                         </td></tr>\n",
       "\t<tr><th scope=row>76</th><td>12                            </td><td>12                            </td><td>R MB                          </td><td>0.9243736                     </td><td>FALSE                         </td></tr>\n",
       "\t<tr><th scope=row>77</th><td>13                            </td><td>13                            </td><td>L MB                          </td><td>0.9070526                     </td><td>FALSE                         </td></tr>\n",
       "\t<tr><th scope=row>78</th><td>14                            </td><td>14                            </td><td>pineal gland                  </td><td>0.9405718                     </td><td>FALSE                         </td></tr>\n",
       "\t<tr><th scope=row>79</th><td>15                            </td><td>15                            </td><td>R LV at AC                    </td><td>0.9615300                     </td><td>FALSE                         </td></tr>\n",
       "\t<tr><th scope=row>80</th><td>16                            </td><td>16                            </td><td>L LV at AC                    </td><td>1.9936727                     </td><td>FALSE                         </td></tr>\n",
       "\t<tr><th scope=row>81</th><td>17                            </td><td>17                            </td><td>R LV at PC                    </td><td>3.1305508                     </td><td>FALSE                         </td></tr>\n",
       "\t<tr><th scope=row>82</th><td>18                            </td><td>18                            </td><td>L LV at PC                    </td><td>2.4558675                     </td><td>FALSE                         </td></tr>\n",
       "\t<tr><th scope=row>83</th><td>19                            </td><td>19                            </td><td>genu of CC                    </td><td>1.0792503                     </td><td>FALSE                         </td></tr>\n",
       "\t<tr><th scope=row>84</th><td>20                            </td><td>20                            </td><td>splenium of CC                </td><td>0.2908592                     </td><td>FALSE                         </td></tr>\n",
       "\t<tr><th scope=row>85</th><td>21                            </td><td>21                            </td><td>R AL temporal horn            </td><td>0.7809389                     </td><td>FALSE                         </td></tr>\n",
       "\t<tr><th scope=row>86</th><td>22                            </td><td>22                            </td><td>L AL temporal horn            </td><td>0.9100455                     </td><td>FALSE                         </td></tr>\n",
       "\t<tr><th scope=row>87</th><td>23                            </td><td>23                            </td><td>R superior AM temporal horn   </td><td>1.0843856                     </td><td>FALSE                         </td></tr>\n",
       "\t<tr><th scope=row>88</th><td>24                            </td><td>24                            </td><td>L superior AM temporal horn   </td><td>0.8456265                     </td><td>FALSE                         </td></tr>\n",
       "\t<tr><th scope=row>89</th><td>25                            </td><td>25                            </td><td>R inferior AM temporal horn   </td><td>0.7155008                     </td><td>FALSE                         </td></tr>\n",
       "\t<tr><th scope=row>90</th><td>26                            </td><td>26                            </td><td>L inferior AM temporal horn   </td><td>2.0432246                     </td><td>FALSE                         </td></tr>\n",
       "\t<tr><th scope=row>91</th><td>27                            </td><td>27                            </td><td>R indusium griseum origin     </td><td>0.7883195                     </td><td>FALSE                         </td></tr>\n",
       "\t<tr><th scope=row>92</th><td>28                            </td><td>28                            </td><td>L indusium griseum origin     </td><td>0.8691719                     </td><td>FALSE                         </td></tr>\n",
       "\t<tr><th scope=row>93</th><td>29                            </td><td>29                            </td><td>R ventral occipital horn      </td><td>1.8562592                     </td><td>FALSE                         </td></tr>\n",
       "\t<tr><th scope=row>94</th><td>30                            </td><td>30                            </td><td>L ventral occipital horn      </td><td>2.5216415                     </td><td>FALSE                         </td></tr>\n",
       "\t<tr><th scope=row>95</th><td>31                            </td><td>31                            </td><td>R olfactory sulcal fundus     </td><td>1.0958992                     </td><td>FALSE                         </td></tr>\n",
       "\t<tr><th scope=row>96</th><td>32                            </td><td>32                            </td><td>L olfactory sulcal fundus     </td><td>0.5622259                     </td><td>FALSE                         </td></tr>\n",
       "</tbody>\n",
       "</table>\n"
      ],
      "text/latex": [
       "\\begin{tabular}{r|lllll}\n",
       "  & fid & name & description & rater\\_error & outlier\\\\\n",
       "\\hline\n",
       "\t65 &  1                             & AC                             & AC                             & 0.1355433                      & FALSE                         \\\\\n",
       "\t66 &  2                             & PC                             & PC                             & 0.6884137                      & FALSE                         \\\\\n",
       "\t67 &  3                             & 3                              & infracollicular sulcus         & 1.5301650                      & FALSE                         \\\\\n",
       "\t68 &  4                             & 4                              & PMJ                            & 0.6658026                      & FALSE                         \\\\\n",
       "\t69 &  5                             & 5                              & superior interpeduncular fossa & 1.3824154                      & FALSE                         \\\\\n",
       "\t70 &  6                             & 6                              & R superior LMS                 & 0.8329295                      & FALSE                         \\\\\n",
       "\t71 &  7                             & 7                              & L superior LMS                 & 1.2218516                      & FALSE                         \\\\\n",
       "\t72 &  8                             & 8                              & R inferior LMS                 & 0.3445809                      & FALSE                         \\\\\n",
       "\t73 &  9                             & 9                              & L inferior LMS                 & 0.7483035                      & FALSE                         \\\\\n",
       "\t74 & 10                             & 10                             & culmen                         & 0.6659211                      & FALSE                         \\\\\n",
       "\t75 & 11                             & 11                             & intermammillary sulcus         & 0.2991135                      & FALSE                         \\\\\n",
       "\t76 & 12                             & 12                             & R MB                           & 0.9243736                      & FALSE                         \\\\\n",
       "\t77 & 13                             & 13                             & L MB                           & 0.9070526                      & FALSE                         \\\\\n",
       "\t78 & 14                             & 14                             & pineal gland                   & 0.9405718                      & FALSE                         \\\\\n",
       "\t79 & 15                             & 15                             & R LV at AC                     & 0.9615300                      & FALSE                         \\\\\n",
       "\t80 & 16                             & 16                             & L LV at AC                     & 1.9936727                      & FALSE                         \\\\\n",
       "\t81 & 17                             & 17                             & R LV at PC                     & 3.1305508                      & FALSE                         \\\\\n",
       "\t82 & 18                             & 18                             & L LV at PC                     & 2.4558675                      & FALSE                         \\\\\n",
       "\t83 & 19                             & 19                             & genu of CC                     & 1.0792503                      & FALSE                         \\\\\n",
       "\t84 & 20                             & 20                             & splenium of CC                 & 0.2908592                      & FALSE                         \\\\\n",
       "\t85 & 21                             & 21                             & R AL temporal horn             & 0.7809389                      & FALSE                         \\\\\n",
       "\t86 & 22                             & 22                             & L AL temporal horn             & 0.9100455                      & FALSE                         \\\\\n",
       "\t87 & 23                             & 23                             & R superior AM temporal horn    & 1.0843856                      & FALSE                         \\\\\n",
       "\t88 & 24                             & 24                             & L superior AM temporal horn    & 0.8456265                      & FALSE                         \\\\\n",
       "\t89 & 25                             & 25                             & R inferior AM temporal horn    & 0.7155008                      & FALSE                         \\\\\n",
       "\t90 & 26                             & 26                             & L inferior AM temporal horn    & 2.0432246                      & FALSE                         \\\\\n",
       "\t91 & 27                             & 27                             & R indusium griseum origin      & 0.7883195                      & FALSE                         \\\\\n",
       "\t92 & 28                             & 28                             & L indusium griseum origin      & 0.8691719                      & FALSE                         \\\\\n",
       "\t93 & 29                             & 29                             & R ventral occipital horn       & 1.8562592                      & FALSE                         \\\\\n",
       "\t94 & 30                             & 30                             & L ventral occipital horn       & 2.5216415                      & FALSE                         \\\\\n",
       "\t95 & 31                             & 31                             & R olfactory sulcal fundus      & 1.0958992                      & FALSE                         \\\\\n",
       "\t96 & 32                             & 32                             & L olfactory sulcal fundus      & 0.5622259                      & FALSE                         \\\\\n",
       "\\end{tabular}\n"
      ],
      "text/markdown": [
       "\n",
       "| <!--/--> | fid | name | description | rater_error | outlier | \n",
       "|---|---|---|---|---|---|---|---|---|---|---|---|---|---|---|---|---|---|---|---|---|---|---|---|---|---|---|---|---|---|---|---|\n",
       "| 65 |  1                             | AC                             | AC                             | 0.1355433                      | FALSE                          | \n",
       "| 66 |  2                             | PC                             | PC                             | 0.6884137                      | FALSE                          | \n",
       "| 67 |  3                             | 3                              | infracollicular sulcus         | 1.5301650                      | FALSE                          | \n",
       "| 68 |  4                             | 4                              | PMJ                            | 0.6658026                      | FALSE                          | \n",
       "| 69 |  5                             | 5                              | superior interpeduncular fossa | 1.3824154                      | FALSE                          | \n",
       "| 70 |  6                             | 6                              | R superior LMS                 | 0.8329295                      | FALSE                          | \n",
       "| 71 |  7                             | 7                              | L superior LMS                 | 1.2218516                      | FALSE                          | \n",
       "| 72 |  8                             | 8                              | R inferior LMS                 | 0.3445809                      | FALSE                          | \n",
       "| 73 |  9                             | 9                              | L inferior LMS                 | 0.7483035                      | FALSE                          | \n",
       "| 74 | 10                             | 10                             | culmen                         | 0.6659211                      | FALSE                          | \n",
       "| 75 | 11                             | 11                             | intermammillary sulcus         | 0.2991135                      | FALSE                          | \n",
       "| 76 | 12                             | 12                             | R MB                           | 0.9243736                      | FALSE                          | \n",
       "| 77 | 13                             | 13                             | L MB                           | 0.9070526                      | FALSE                          | \n",
       "| 78 | 14                             | 14                             | pineal gland                   | 0.9405718                      | FALSE                          | \n",
       "| 79 | 15                             | 15                             | R LV at AC                     | 0.9615300                      | FALSE                          | \n",
       "| 80 | 16                             | 16                             | L LV at AC                     | 1.9936727                      | FALSE                          | \n",
       "| 81 | 17                             | 17                             | R LV at PC                     | 3.1305508                      | FALSE                          | \n",
       "| 82 | 18                             | 18                             | L LV at PC                     | 2.4558675                      | FALSE                          | \n",
       "| 83 | 19                             | 19                             | genu of CC                     | 1.0792503                      | FALSE                          | \n",
       "| 84 | 20                             | 20                             | splenium of CC                 | 0.2908592                      | FALSE                          | \n",
       "| 85 | 21                             | 21                             | R AL temporal horn             | 0.7809389                      | FALSE                          | \n",
       "| 86 | 22                             | 22                             | L AL temporal horn             | 0.9100455                      | FALSE                          | \n",
       "| 87 | 23                             | 23                             | R superior AM temporal horn    | 1.0843856                      | FALSE                          | \n",
       "| 88 | 24                             | 24                             | L superior AM temporal horn    | 0.8456265                      | FALSE                          | \n",
       "| 89 | 25                             | 25                             | R inferior AM temporal horn    | 0.7155008                      | FALSE                          | \n",
       "| 90 | 26                             | 26                             | L inferior AM temporal horn    | 2.0432246                      | FALSE                          | \n",
       "| 91 | 27                             | 27                             | R indusium griseum origin      | 0.7883195                      | FALSE                          | \n",
       "| 92 | 28                             | 28                             | L indusium griseum origin      | 0.8691719                      | FALSE                          | \n",
       "| 93 | 29                             | 29                             | R ventral occipital horn       | 1.8562592                      | FALSE                          | \n",
       "| 94 | 30                             | 30                             | L ventral occipital horn       | 2.5216415                      | FALSE                          | \n",
       "| 95 | 31                             | 31                             | R olfactory sulcal fundus      | 1.0958992                      | FALSE                          | \n",
       "| 96 | 32                             | 32                             | L olfactory sulcal fundus      | 0.5622259                      | FALSE                          | \n",
       "\n",
       "\n"
      ],
      "text/plain": [
       "   fid name description                    rater_error outlier\n",
       "65  1  AC   AC                             0.1355433   FALSE  \n",
       "66  2  PC   PC                             0.6884137   FALSE  \n",
       "67  3  3    infracollicular sulcus         1.5301650   FALSE  \n",
       "68  4  4    PMJ                            0.6658026   FALSE  \n",
       "69  5  5    superior interpeduncular fossa 1.3824154   FALSE  \n",
       "70  6  6    R superior LMS                 0.8329295   FALSE  \n",
       "71  7  7    L superior LMS                 1.2218516   FALSE  \n",
       "72  8  8    R inferior LMS                 0.3445809   FALSE  \n",
       "73  9  9    L inferior LMS                 0.7483035   FALSE  \n",
       "74 10  10   culmen                         0.6659211   FALSE  \n",
       "75 11  11   intermammillary sulcus         0.2991135   FALSE  \n",
       "76 12  12   R MB                           0.9243736   FALSE  \n",
       "77 13  13   L MB                           0.9070526   FALSE  \n",
       "78 14  14   pineal gland                   0.9405718   FALSE  \n",
       "79 15  15   R LV at AC                     0.9615300   FALSE  \n",
       "80 16  16   L LV at AC                     1.9936727   FALSE  \n",
       "81 17  17   R LV at PC                     3.1305508   FALSE  \n",
       "82 18  18   L LV at PC                     2.4558675   FALSE  \n",
       "83 19  19   genu of CC                     1.0792503   FALSE  \n",
       "84 20  20   splenium of CC                 0.2908592   FALSE  \n",
       "85 21  21   R AL temporal horn             0.7809389   FALSE  \n",
       "86 22  22   L AL temporal horn             0.9100455   FALSE  \n",
       "87 23  23   R superior AM temporal horn    1.0843856   FALSE  \n",
       "88 24  24   L superior AM temporal horn    0.8456265   FALSE  \n",
       "89 25  25   R inferior AM temporal horn    0.7155008   FALSE  \n",
       "90 26  26   L inferior AM temporal horn    2.0432246   FALSE  \n",
       "91 27  27   R indusium griseum origin      0.7883195   FALSE  \n",
       "92 28  28   L indusium griseum origin      0.8691719   FALSE  \n",
       "93 29  29   R ventral occipital horn       1.8562592   FALSE  \n",
       "94 30  30   L ventral occipital horn       2.5216415   FALSE  \n",
       "95 31  31   R olfactory sulcal fundus      1.0958992   FALSE  \n",
       "96 32  32   L olfactory sulcal fundus      0.5622259   FALSE  "
      ]
     },
     "metadata": {},
     "output_type": "display_data"
    }
   ],
   "source": [
    "i <- 3\n",
    "df_curr_rater <- subset(df_raters, rater==i)[,c(\"fid\",\"name\",\"description\",\"rater_error\",\"outlier\")]\n",
    "df_curr_rater$description <- df_gold$description\n",
    "sprintf(\"Overall mean rater error (AFLE): %.2f +/- %.2f mm\", mean(df_curr_rater$rater_error), sd(df_curr_rater$rater_error))\n",
    "df_curr_rater"
   ]
  },
  {
   "cell_type": "code",
   "execution_count": 7,
   "metadata": {},
   "outputs": [
    {
     "data": {
      "text/plain": [
       "R version 3.4.3 (2017-11-30)\n",
       "Platform: x86_64-apple-darwin13.4.0 (64-bit)\n",
       "Running under: macOS High Sierra 10.13.2\n",
       "\n",
       "Matrix products: default\n",
       "BLAS: /System/Library/Frameworks/Accelerate.framework/Versions/A/Frameworks/vecLib.framework/Versions/A/libBLAS.dylib\n",
       "LAPACK: /System/Library/Frameworks/Accelerate.framework/Versions/A/Frameworks/vecLib.framework/Versions/A/libLAPACK.dylib\n",
       "\n",
       "locale:\n",
       "[1] en_CA.UTF-8/en_CA.UTF-8/en_CA.UTF-8/C/en_CA.UTF-8/en_CA.UTF-8\n",
       "\n",
       "attached base packages:\n",
       "[1] stats     graphics  grDevices utils     datasets  methods   base     \n",
       "\n",
       "other attached packages:\n",
       "[1] reshape2_1.4.3 digest_0.6.13  plyr_1.8.4    \n",
       "\n",
       "loaded via a namespace (and not attached):\n",
       " [1] compiler_3.4.3  magrittr_1.5    IRdisplay_0.4.4 pbdZMQ_0.3-0   \n",
       " [5] tools_3.4.3     Rcpp_0.12.14    crayon_1.3.4    uuid_0.1-2     \n",
       " [9] stringi_1.1.6   IRkernel_0.8.11 jsonlite_1.5    stringr_1.2.0  \n",
       "[13] repr_0.12.0     evaluate_0.10.1"
      ]
     },
     "metadata": {},
     "output_type": "display_data"
    }
   ],
   "source": [
    "# details on the environment\n",
    "sessionInfo()"
   ]
  }
 ],
 "metadata": {
  "kernelspec": {
   "display_name": "R",
   "language": "R",
   "name": "ir"
  },
  "language_info": {
   "codemirror_mode": "r",
   "file_extension": ".r",
   "mimetype": "text/x-r-source",
   "name": "R",
   "pygments_lexer": "r",
   "version": "3.4.3"
  }
 },
 "nbformat": 4,
 "nbformat_minor": 2
}
